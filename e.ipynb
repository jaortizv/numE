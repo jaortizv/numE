{
 "cells": [
  {
   "cell_type": "markdown",
   "id": "7307b2ff",
   "metadata": {},
   "source": [
    "# Adicionar cosas pequeñas a 1 y elevarlo a potencias grandes"
   ]
  },
  {
   "cell_type": "code",
   "execution_count": 109,
   "id": "26748991",
   "metadata": {},
   "outputs": [],
   "source": [
    "import numpy as np\n",
    "import matplotlib.pyplot as plt"
   ]
  },
  {
   "cell_type": "code",
   "execution_count": 145,
   "id": "cb6e4be6",
   "metadata": {},
   "outputs": [
    {
     "data": {
      "text/plain": [
       "array([0.  , 0.01, 0.02, 0.03, 0.04, 0.05, 0.06, 0.07, 0.08, 0.09, 0.1 ,\n",
       "       0.11, 0.12, 0.13, 0.14, 0.15, 0.16, 0.17, 0.18, 0.19, 0.2 , 0.21,\n",
       "       0.22, 0.23, 0.24, 0.25, 0.26, 0.27, 0.28, 0.29, 0.3 , 0.31, 0.32,\n",
       "       0.33, 0.34, 0.35, 0.36, 0.37, 0.38, 0.39, 0.4 , 0.41, 0.42, 0.43,\n",
       "       0.44, 0.45, 0.46, 0.47, 0.48, 0.49, 0.5 , 0.51, 0.52, 0.53, 0.54,\n",
       "       0.55, 0.56, 0.57, 0.58, 0.59, 0.6 , 0.61, 0.62, 0.63, 0.64, 0.65,\n",
       "       0.66, 0.67, 0.68, 0.69, 0.7 , 0.71, 0.72, 0.73, 0.74, 0.75, 0.76,\n",
       "       0.77, 0.78, 0.79, 0.8 , 0.81, 0.82, 0.83, 0.84, 0.85, 0.86, 0.87,\n",
       "       0.88, 0.89, 0.9 , 0.91, 0.92, 0.93, 0.94, 0.95, 0.96, 0.97, 0.98,\n",
       "       0.99])"
      ]
     },
     "execution_count": 145,
     "metadata": {},
     "output_type": "execute_result"
    }
   ],
   "source": [
    "#Una serie de números entre 0 y 1\n",
    "\n",
    "delta = np.arange(0,1,0.01)\n",
    "delta"
   ]
  },
  {
   "cell_type": "code",
   "execution_count": 111,
   "id": "b68bc786",
   "metadata": {},
   "outputs": [],
   "source": [
    "#Adicionar algo cada vez más pequeño a 1 y elevarlo \n",
    "#a potencias cada vez más grandes\n",
    "\n",
    "deltas = []\n",
    "es     = []\n",
    "\n",
    "for i in range(1,len(delta)):\n",
    "    deltas.append(delta[i])\n",
    "    e = (1+delta[i])**(1/delta[i])\n",
    "    es.append(e)"
   ]
  },
  {
   "cell_type": "code",
   "execution_count": 144,
   "id": "8db9b36a",
   "metadata": {},
   "outputs": [
    {
     "data": {
      "image/png": "[encoded data removed]",
      "text/plain": [
       "<Figure size 432x288 with 1 Axes>"
      ]
     },
     "metadata": {
      "needs_background": "light"
     },
     "output_type": "display_data"
    }
   ],
   "source": [
    "plt.plot(deltas, es, 'g-')\n",
    "plt.xlim((1,0))\n",
    "plt.xlabel('deltas')\n",
    "plt.ylabel('es')\n",
    "plt.show()"
   ]
  },
  {
   "cell_type": "code",
   "execution_count": 155,
   "id": "427ceb57",
   "metadata": {},
   "outputs": [
    {
     "name": "stdout",
     "output_type": "stream",
     "text": [
      "valor de e:  2.0 delta:  1 potencia:  1.0\n"
     ]
    }
   ],
   "source": [
    "delta = 1\n",
    "e = (1+delta)**(1/delta)\n",
    "print('valor de e: ', e, 'delta: ', delta, 'potencia: ', 1/delta)"
   ]
  },
  {
   "cell_type": "code",
   "execution_count": 156,
   "id": "f0074acb",
   "metadata": {},
   "outputs": [
    {
     "name": "stdout",
     "output_type": "stream",
     "text": [
      "valor de e:  2.1887692117461723 delta:  0.6 potencia:  1.6666666666666667\n"
     ]
    }
   ],
   "source": [
    "delta = 0.6\n",
    "e = (1+delta)**(1/delta)\n",
    "print('valor de e: ', e, 'delta: ', delta, 'potencia: ', 1/delta)"
   ]
  },
  {
   "cell_type": "code",
   "execution_count": 157,
   "id": "166c96d7",
   "metadata": {},
   "outputs": [
    {
     "name": "stdout",
     "output_type": "stream",
     "text": [
      "valor de e:  2.7048138294215285 delta:  0.01 potencia:  100.0\n"
     ]
    }
   ],
   "source": [
    "delta = 0.01\n",
    "e = (1+delta)**(1/delta)\n",
    "print('valor de e: ', e, 'delta: ', delta, 'potencia: ', 1/delta)"
   ]
  },
  {
   "cell_type": "code",
   "execution_count": 158,
   "id": "96ad072b",
   "metadata": {},
   "outputs": [
    {
     "name": "stdout",
     "output_type": "stream",
     "text": [
      "valor de e:  2.7169239322355936 delta:  0.001 potencia:  1000.0\n"
     ]
    }
   ],
   "source": [
    "delta = 0.001\n",
    "e = (1+delta)**(1/delta)\n",
    "print('valor de e: ', e, 'delta: ', delta, 'potencia: ', 1/delta)"
   ]
  },
  {
   "cell_type": "code",
   "execution_count": 159,
   "id": "49cab1ca",
   "metadata": {},
   "outputs": [
    {
     "name": "stdout",
     "output_type": "stream",
     "text": [
      "valor de e:  2.7182816941320818 delta:  1e-07 potencia:  10000000.0\n"
     ]
    }
   ],
   "source": [
    "delta = 0.0000001\n",
    "e = (1+delta)**(1/delta)\n",
    "print('valor de e: ', e, 'delta: ', delta, 'potencia: ', 1/delta)"
   ]
  },
  {
   "cell_type": "code",
   "execution_count": 160,
   "id": "172a5a1c",
   "metadata": {},
   "outputs": [
    {
     "name": "stdout",
     "output_type": "stream",
     "text": [
      "valor de e:  2.7182817983473577 delta:  1e-08 potencia:  100000000.0\n"
     ]
    }
   ],
   "source": [
    "delta = 0.00000001\n",
    "e = (1+delta)**(1/delta)\n",
    "print('valor de e: ', e, 'delta: ', delta, 'potencia: ', 1/delta)"
   ]
  },
  {
   "cell_type": "code",
   "execution_count": 163,
   "id": "0a9b38ae",
   "metadata": {},
   "outputs": [
    {
     "data": {
      "text/plain": [
       "2.718281828459045"
      ]
     },
     "execution_count": 163,
     "metadata": {},
     "output_type": "execute_result"
    }
   ],
   "source": [
    "#Valor de e en numpy\n",
    "\n",
    "np.e"
   ]
  },
  {
   "cell_type": "markdown",
   "id": "30c516b5",
   "metadata": {},
   "source": [
    "# Adicionar al 2 cosas cada vez más pequeñas"
   ]
  },
  {
   "cell_type": "code",
   "execution_count": 164,
   "id": "2778eefe",
   "metadata": {},
   "outputs": [],
   "source": [
    "# Una función e^x\n",
    "\n",
    "def expo(x):\n",
    "    return np.e**x"
   ]
  },
  {
   "cell_type": "code",
   "execution_count": 170,
   "id": "7d78f80d",
   "metadata": {},
   "outputs": [
    {
     "data": {
      "text/plain": [
       "2.718281828459045"
      ]
     },
     "execution_count": 170,
     "metadata": {},
     "output_type": "execute_result"
    }
   ],
   "source": [
    "# e^1 = e\n",
    "\n",
    "expo(1)"
   ]
  },
  {
   "cell_type": "code",
   "execution_count": 168,
   "id": "d332b6fd",
   "metadata": {},
   "outputs": [],
   "source": [
    "from math import factorial"
   ]
  },
  {
   "cell_type": "code",
   "execution_count": 180,
   "id": "345a52d1",
   "metadata": {},
   "outputs": [
    {
     "data": {
      "text/plain": [
       "2.7182818284590455"
      ]
     },
     "execution_count": 180,
     "metadata": {},
     "output_type": "execute_result"
    }
   ],
   "source": [
    "# Una sumatoria 'infinita' (hasta 1000)\n",
    "\n",
    "sums = []\n",
    "for i in range(0,1000):\n",
    "    sums.append((1**i)/factorial(i))\n",
    "    \n",
    "e = sum(sums)\n",
    "e"
   ]
  },
  {
   "cell_type": "code",
   "execution_count": 211,
   "id": "e87130d6",
   "metadata": {},
   "outputs": [
    {
     "name": "stdout",
     "output_type": "stream",
     "text": [
      "valor e:  2.5 sumando 1/2!:  0.5\n"
     ]
    }
   ],
   "source": [
    "ds = []\n",
    "for i in range(2,3):\n",
    "    ls.append(i)\n",
    "    ds.append(1/factorial(i))\n",
    "\n",
    "e = 2 + sum(ds)\n",
    "print('valor e: ', e, 'sumando 1/2!: ', sum(ds))"
   ]
  },
  {
   "cell_type": "code",
   "execution_count": 212,
   "id": "f5f5580b",
   "metadata": {},
   "outputs": [
    {
     "name": "stdout",
     "output_type": "stream",
     "text": [
      "valor e:  2.6666666666666665 sumando 1/2! + 1/3!:  0.6666666666666666\n"
     ]
    }
   ],
   "source": [
    "ds = []\n",
    "for i in range(2,4):\n",
    "    ls.append(i)\n",
    "    ds.append(1/factorial(i))\n",
    "\n",
    "e = 2 + sum(ds)\n",
    "print('valor e: ', e, 'sumando 1/2! + 1/3!: ', sum(ds))"
   ]
  },
  {
   "cell_type": "code",
   "execution_count": 213,
   "id": "18420913",
   "metadata": {},
   "outputs": [
    {
     "name": "stdout",
     "output_type": "stream",
     "text": [
      "valor e:  2.708333333333333 sumando 1/2! + 1/3! + 1/4!:  0.7083333333333333\n"
     ]
    }
   ],
   "source": [
    "ds = []\n",
    "for i in range(2,5):\n",
    "    ls.append(i)\n",
    "    ds.append(1/factorial(i))\n",
    "\n",
    "e = 2 + sum(ds)\n",
    "print('valor e: ', e, 'sumando 1/2! + 1/3! + 1/4!: ', sum(ds))"
   ]
  },
  {
   "cell_type": "code",
   "execution_count": 214,
   "id": "710b80d0",
   "metadata": {},
   "outputs": [
    {
     "name": "stdout",
     "output_type": "stream",
     "text": [
      "valor e:  2.716666666666667 sumando 1/2! + 1/3! + 1/4! + 1/5!:  0.7166666666666666\n"
     ]
    }
   ],
   "source": [
    "ds = []\n",
    "for i in range(2,6):\n",
    "    ls.append(i)\n",
    "    ds.append(1/factorial(i))\n",
    "\n",
    "e = 2 + sum(ds)\n",
    "print('valor e: ', e, 'sumando 1/2! + 1/3! + 1/4! + 1/5!: ', sum(ds))"
   ]
  },
  {
   "cell_type": "code",
   "execution_count": 220,
   "id": "a5d34675",
   "metadata": {},
   "outputs": [
    {
     "name": "stdout",
     "output_type": "stream",
     "text": [
      "valor e_parte_decimal:  0.718281828459045 sumando 1/2! + 1/3! +...+ 1/30!: \n"
     ]
    }
   ],
   "source": [
    "#Sacando solo la parte decimal \n",
    "\n",
    "ds = []\n",
    "for i in range(2,31):\n",
    "    ls.append(i)\n",
    "    ds.append(1/factorial(i))\n",
    "\n",
    "e_parte_decimal = sum(ds)\n",
    "print('valor e_parte_decimal: ', e_parte_decimal, 'sumando 1/2! + 1/3! +...+ 1/30!: ')"
   ]
  },
  {
   "cell_type": "code",
   "execution_count": 269,
   "id": "5fe01ceb",
   "metadata": {},
   "outputs": [
    {
     "data": {
      "text/plain": [
       "2.0"
      ]
     },
     "execution_count": 269,
     "metadata": {},
     "output_type": "execute_result"
    }
   ],
   "source": [
    "np.e - e_parte_decimal"
   ]
  },
  {
   "cell_type": "markdown",
   "id": "bdb6004d",
   "metadata": {},
   "source": [
    "# e^x"
   ]
  },
  {
   "cell_type": "code",
   "execution_count": 261,
   "id": "81915082",
   "metadata": {},
   "outputs": [],
   "source": [
    "x = np.arange(-2,2,0.005)"
   ]
  },
  {
   "cell_type": "code",
   "execution_count": 262,
   "id": "48c35396",
   "metadata": {},
   "outputs": [],
   "source": [
    "y = expo(x)"
   ]
  },
  {
   "cell_type": "code",
   "execution_count": 263,
   "id": "8e0da740",
   "metadata": {},
   "outputs": [
    {
     "data": {
      "text/plain": [
       "<matplotlib.lines.Line2D at 0x20108cfa160>"
      ]
     },
     "execution_count": 263,
     "metadata": {},
     "output_type": "execute_result"
    },
    {
     "data": {
      "image/png": "[encoded data removed]",
      "text/plain": [
       "<Figure size 432x288 with 1 Axes>"
      ]
     },
     "metadata": {
      "needs_background": "light"
     },
     "output_type": "display_data"
    }
   ],
   "source": [
    "plt.plot(x,y,'g')\n",
    "plt.axhline(ls='--', color='black')\n",
    "plt.axvline(ls='--', color='black')"
   ]
  }
 ],
 "metadata": {
  "kernelspec": {
   "display_name": "Python 3",
   "language": "python",
   "name": "python3"
  },
  "language_info": {
   "codemirror_mode": {
    "name": "ipython",
    "version": 3
   },
   "file_extension": ".py",
   "mimetype": "text/x-python",
   "name": "python",
   "nbconvert_exporter": "python",
   "pygments_lexer": "ipython3",
   "version": "3.8.8"
  }
 },
 "nbformat": 4,
 "nbformat_minor": 5
}
